{
  "cells": [
    {
      "cell_type": "markdown",
      "metadata": {
        "id": "view-in-github",
        "colab_type": "text"
      },
      "source": [
        "<a href=\"https://colab.research.google.com/github/engineerJPark/EECS-498/blob/master/Assignment/A2/linear_classifier.ipynb\" target=\"_parent\"><img src=\"https://colab.research.google.com/assets/colab-badge.svg\" alt=\"Open In Colab\"/></a>"
      ]
    },
    {
      "cell_type": "markdown",
      "metadata": {
        "id": "vTOX0d3cmLQf"
      },
      "source": [
        "# EECS 498-007/598-005 Assignment 2-1: Linear Classifiers\n",
        "\n",
        "Before we start, please put your name and UMID in following format\n",
        "\n",
        ": Firstname LASTNAME, #00000000   //   e.g.) Justin JOHNSON, #12345678"
      ]
    },
    {
      "cell_type": "markdown",
      "metadata": {
        "id": "tt7vq1h6mRto"
      },
      "source": [
        "**Your Answer:**   \n",
        "Hello WORLD, #XXXXXXXX"
      ]
    },
    {
      "cell_type": "markdown",
      "metadata": {
        "id": "FrfeHl_-m4V-"
      },
      "source": [
        "## Install starter code\n",
        "We will continue using the utility functions that we've used for Assignment 1: [`coutils` package](https://github.com/deepvision-class/starter-code). Run this cell to download and install it."
      ]
    },
    {
      "cell_type": "code",
      "execution_count": null,
      "metadata": {
        "id": "VyQblYp0nEZq",
        "colab": {
          "base_uri": "https://localhost:8080/"
        },
        "outputId": "2b90c0f1-3858-4db1-f2cd-550035e41ba4"
      },
      "outputs": [
        {
          "output_type": "stream",
          "name": "stdout",
          "text": [
            "Collecting git+https://github.com/deepvision-class/starter-code\n",
            "  Cloning https://github.com/deepvision-class/starter-code to /tmp/pip-req-build-rjsd07dn\n",
            "  Running command git clone -q https://github.com/deepvision-class/starter-code /tmp/pip-req-build-rjsd07dn\n"
          ]
        }
      ],
      "source": [
        "!pip install git+https://github.com/deepvision-class/starter-code"
      ]
    },
    {
      "cell_type": "markdown",
      "metadata": {
        "id": "28bBK1v7nJOu"
      },
      "source": [
        "## Setup code\n",
        "Run some setup code for this notebook: Import some useful packages and increase the default figure size."
      ]
    },
    {
      "cell_type": "code",
      "execution_count": null,
      "metadata": {
        "id": "VUCKw4Tl1ddj"
      },
      "outputs": [],
      "source": [
        "from __future__ import print_function\n",
        "from __future__ import division\n",
        "\n",
        "import torch\n",
        "import coutils\n",
        "import random\n",
        "import time\n",
        "import math\n",
        "import matplotlib.pyplot as plt\n",
        "from torchvision.utils import make_grid\n",
        "\n",
        "%matplotlib inline\n",
        "plt.rcParams['figure.figsize'] = (10.0, 8.0) # set default size of plots\n",
        "plt.rcParams['image.interpolation'] = 'nearest'\n",
        "plt.rcParams['image.cmap'] = 'gray'"
      ]
    },
    {
      "cell_type": "markdown",
      "metadata": {
        "id": "lhqpd2IN2O-K"
      },
      "source": [
        "Starting in this assignment, we will use the GPU to accelerate our computation. Run this cell to make sure you are using a GPU."
      ]
    },
    {
      "cell_type": "code",
      "execution_count": null,
      "metadata": {
        "id": "SGDxdBIMRX6b"
      },
      "outputs": [],
      "source": [
        "if torch.cuda.is_available:\n",
        "  print('Good to go!')\n",
        "else:\n",
        "  print('Please set GPU via Edit -> Notebook Settings.')"
      ]
    },
    {
      "cell_type": "markdown",
      "metadata": {
        "id": "fdMnUocj7Srw"
      },
      "source": [
        "Now, we will load CIFAR10 dataset, with normalization.\n",
        "\n",
        "In this notebook we will use the **bias trick**: By adding an extra constant feature of ones to each image, we avoid the need to keep track of a bias vector; the bias will be encoded as the part of the weight matrix that interacts with the constant ones in the input.\n",
        "\n",
        "In the `two_layer_net.ipynb` notebook that follows this one, we will not use the bias trick.\n",
        "\n",
        "---\n",
        "\n",
        "image에 constant한 feature를 더해서 bias vector를 따로 추적하지 않아도 되게하는 방법을 bias trick이라고 한다.\n",
        "\n",
        "이 assignment에서는 다루지 않는다."
      ]
    },
    {
      "cell_type": "code",
      "execution_count": null,
      "metadata": {
        "id": "V2mFlFmQ1ddm"
      },
      "outputs": [],
      "source": [
        "def get_CIFAR10_data(validation_ratio = 0.02):\n",
        "  \"\"\"\n",
        "  Load the CIFAR-10 dataset from disk and perform preprocessing to prepare\n",
        "  it for the linear classifier. These are the same steps as we used for the\n",
        "  SVM, but condensed to a single function.  \n",
        "  \"\"\"\n",
        "  X_train, y_train, X_test, y_test = coutils.data.cifar10()\n",
        "\n",
        "  # Move all the data to the GPU\n",
        "  X_train = X_train.cuda()\n",
        "  y_train = y_train.cuda()\n",
        "  X_test = X_test.cuda()\n",
        "  y_test = y_test.cuda()\n",
        "\n",
        "  # 0. Visualize some examples from the dataset.\n",
        "  class_names = [\n",
        "      'plane', 'car', 'bird', 'cat', 'deer',\n",
        "      'dog', 'frog', 'horse', 'ship', 'truck'\n",
        "  ]\n",
        "  img = coutils.utils.visualize_dataset(X_train, y_train, 12, class_names)\n",
        "  plt.imshow(img)\n",
        "  plt.axis('off')\n",
        "  plt.show()\n",
        "\n",
        "  # 1. Normalize the data: subtract the mean RGB (zero mean)\n",
        "  print('X_train.shape : ', X_train.shape)\n",
        "  mean_image = X_train.mean(dim=0, keepdim=True).mean(dim=2, keepdim=True).mean(dim=3, keepdim=True) # 각 channel 별로 mean을 구한다.\n",
        "  X_train -= mean_image\n",
        "  X_test -= mean_image\n",
        "  print('mean_image.shape : ', mean_image.shape)\n",
        "\n",
        "  # 2. Reshape the image data into rows\n",
        "  X_train = X_train.reshape(X_train.shape[0], -1)\n",
        "  X_test = X_test.reshape(X_test.shape[0], -1)\n",
        "  print('X_train.shape : ', X_train.shape)\n",
        "\n",
        "  # 3. Add bias dimension and transform into columns\n",
        "  ones_train = torch.ones(X_train.shape[0], 1, device=X_train.device)\n",
        "  X_train = torch.cat([X_train, ones_train], dim=1)\n",
        "  ones_test = torch.ones(X_test.shape[0], 1, device=X_test.device)\n",
        "  X_test = torch.cat([X_test, ones_test], dim=1)\n",
        "  print('X_train.shape : ', X_train.shape)\n",
        "\n",
        "  # 4. Carve out part of the training set to use for validation.\n",
        "  # For random permutation, you can use torch.randperm or torch.randint\n",
        "  # But, for this homework, we use slicing instead.\n",
        "  num_training = int( X_train.shape[0] * (1.0 - validation_ratio) )\n",
        "  num_validation = X_train.shape[0] - num_training\n",
        "\n",
        "  # Return the dataset as a dictionary\n",
        "  data_dict = {}\n",
        "  data_dict['X_val'] = X_train[num_training:num_training + num_validation]\n",
        "  data_dict['y_val'] = y_train[num_training:num_training + num_validation]\n",
        "  data_dict['X_train'] = X_train[0:num_training]\n",
        "  data_dict['y_train'] = y_train[0:num_training]\n",
        "\n",
        "  data_dict['X_test'] = X_test\n",
        "  data_dict['y_test'] = y_test\n",
        "\n",
        "  print('----------print in function ended----------')\n",
        "  return data_dict\n",
        "\n",
        "# Invoke the above function to get our data.\n",
        "data_dict = get_CIFAR10_data()\n",
        "print('Train data shape: ', data_dict['X_train'].shape)\n",
        "print('Train labels shape: ', data_dict['y_train'].shape)\n",
        "print('Validation data shape: ', data_dict['X_val'].shape)\n",
        "print('Validation labels shape: ', data_dict['y_val'].shape)\n",
        "print('Test data shape: ', data_dict['X_test'].shape)\n",
        "print('Test labels shape: ', data_dict['y_test'].shape)"
      ]
    },
    {
      "cell_type": "markdown",
      "metadata": {
        "id": "MhOuO4zE9ONc"
      },
      "source": [
        "For Softmax and SVM, we will analytically compute the gradient, as a sanity check."
      ]
    },
    {
      "cell_type": "code",
      "execution_count": null,
      "metadata": {
        "id": "biGULpeRxEhe"
      },
      "outputs": [],
      "source": [
        "def grad_check_sparse(f, x, analytic_grad, num_checks=10, h=1e-7):\n",
        "  \"\"\"\n",
        "  Utility function to perform numeric gradient checking. We use the centered\n",
        "  difference formula to compute a numeric derivative:\n",
        "  \n",
        "  f'(x) =~ (f(x + h) - f(x - h)) / (2h)\n",
        "\n",
        "  Rather than computing a full numeric gradient, we sparsely sample a few\n",
        "  dimensions along which to compute numeric derivatives.\n",
        "\n",
        "  Inputs:\n",
        "  - f: A function that inputs a torch tensor and returns a torch scalar\n",
        "  - x: A torch tensor giving the point at which to evaluate the numeric gradient\n",
        "  - analytic_grad: A torch tensor giving the analytic gradient of f at x\n",
        "  - num_checks: The number of dimensions along which to check\n",
        "  - h: Step size for computing numeric derivatives\n",
        "  \"\"\"\n",
        "  # fix random seed for \n",
        "  coutils.utils.fix_random_seed()\n",
        "\n",
        "  for i in range(num_checks):\n",
        "    \n",
        "    ix = tuple([random.randrange(m) for m in x.shape])\n",
        "    \n",
        "    oldval = x[ix].item()\n",
        "    x[ix] = oldval + h # increment by h\n",
        "    fxph = f(x).item() # evaluate f(x + h)\n",
        "    x[ix] = oldval - h # increment by h\n",
        "    fxmh = f(x).item() # evaluate f(x - h)\n",
        "    x[ix] = oldval     # reset\n",
        "\n",
        "    grad_numerical = (fxph - fxmh) / (2 * h)\n",
        "    grad_analytic = analytic_grad[ix]\n",
        "    rel_error_top = abs(grad_numerical - grad_analytic)\n",
        "    rel_error_bot = (abs(grad_numerical) + abs(grad_analytic) + 1e-12)\n",
        "    rel_error = rel_error_top / rel_error_bot\n",
        "    msg = 'numerical: %f analytic: %f, relative error: %e'\n",
        "    print(msg % (grad_numerical, grad_analytic, rel_error))"
      ]
    },
    {
      "cell_type": "markdown",
      "metadata": {
        "id": "0Lvdm4fm7iJC"
      },
      "source": [
        "## SVM Classifier\n",
        "\n",
        "In this section, you will:\n",
        "    \n",
        "- implement a fully-vectorized **loss function** for the SVM\n",
        "- implement the fully-vectorized expression for its **analytic gradient**\n",
        "- **check your implementation** using numerical gradient\n",
        "- use a validation set to **tune the learning rate and regularization** strength\n",
        "- **optimize** the loss function with **SGD**\n",
        "- **visualize** the final learned weights\n"
      ]
    },
    {
      "cell_type": "code",
      "execution_count": null,
      "metadata": {
        "id": "3CFWcoJF8hti"
      },
      "outputs": [],
      "source": [
        "from IPython.core.display import display_markdown\n",
        "def svm_loss_naive(W, X, y, reg):\n",
        "  \"\"\"\n",
        "  Structured SVM loss function, naive implementation (with loops).\n",
        "\n",
        "  Inputs have dimension D, there are C classes, and we operate on minibatches\n",
        "  of N examples. When you implment the regularization over W, please DO NOT\n",
        "  multiply the regularization term by 1/2 (no coefficient). \n",
        "\n",
        "  Inputs:\n",
        "  - W: A PyTorch tensor of shape (D, C) containing weights.\n",
        "  - X: A PyTorch tensor of shape (N, D) containing a minibatch of data.\n",
        "  - y: A PyTorch tensor of shape (N,) containing training labels; y[i] = c means\n",
        "    that X[i] has label c, where 0 <= c < C.\n",
        "  - reg: (float) regularization strength\n",
        "\n",
        "  Returns a tuple of:\n",
        "  - loss as torch scalar\n",
        "  - gradient of loss with respect to weights W; a tensor of same shape as W\n",
        "  \"\"\"\n",
        "  dW = torch.zeros_like(W) # initialize the gradient as zero\n",
        "\n",
        "  # compute the loss and the gradient\n",
        "  num_classes = W.shape[1]\n",
        "  num_train = X.shape[0]\n",
        "  loss = 0.0\n",
        "  for i in range(num_train): \n",
        "    scores = W.t().mv(X[i]) # C, D * D, 1 = C, 1 or 1, D * D, C *  = 1, C\n",
        "    # print('scores.shape : ', scores.shape) # [10]\n",
        "    correct_class_score = scores[y[i]]\n",
        "    # print('correct_class_score.shape : ', correct_class_score.shape) # scalar\n",
        "    for j in range(num_classes): # 하나의 example에 대한 Loss를 계산한다\n",
        "      if j == y[i]: # 해당 example의 정답이 다른 경우, 아래 코드 실행\n",
        "        continue # 맞췄을 경우 그냥 loss 0으로 둔다\n",
        "      margin = scores[j] - correct_class_score + 1 # note delta = 1\n",
        "      if margin > 0:\n",
        "        loss += margin\n",
        "        #######################################################################\n",
        "        # TODO:                                                               #\n",
        "        # Compute the gradient of the loss function and store it dW. (part 1) #\n",
        "        # Rather that first computing the loss and then computing the         #\n",
        "        # derivative, it is simple to compute the derivative at the same time #\n",
        "        # that the loss is being computed.                                    #\n",
        "        #######################################################################\n",
        "        # Replace \"pass\" statement with your code\n",
        "\n",
        "        # # my code\n",
        "        # # Loss = sum(max(0, s_j - s_y_i + 1))\n",
        "        # dW = dW.t()\n",
        "        # for idx in range(dW.shape[0]): # shape만 잘 바꾸자. 잘 뒤집어라\n",
        "        #   dW[idx] += X[i]\n",
        "        # dW = dW.t()\n",
        "\n",
        "        dW[:, y[i]] -= X[i].T # 하나의 샘플에 대해서 j번 실행된다. 정답인 부분은 잘 상쇄된다\n",
        "        dW[:, j] += X[i].T\n",
        "        #######################################################################\n",
        "        #                       END OF YOUR CODE                              #\n",
        "        #######################################################################\n",
        "        \n",
        "\n",
        "  # Right now the loss is a sum over all training examples, but we want it\n",
        "  # to be an average instead so we divide by num_train.\n",
        "  loss /= num_train\n",
        "\n",
        "  # Add regularization to the loss.\n",
        "  loss += reg * torch.sum(W * W)\n",
        "\n",
        "  #############################################################################\n",
        "  # TODO:                                                                     #\n",
        "  # Compute the gradient of the loss function and store it in dW. (part 2)    #\n",
        "  #############################################################################\n",
        "  # Replace \"pass\" statement with your code\n",
        "  # # my code \n",
        "  # dW /= num_train\n",
        "\n",
        "  dW *= 2 * W * reg\n",
        "  #############################################################################\n",
        "  #                             END OF YOUR CODE                              #\n",
        "  #############################################################################\n",
        "\n",
        "  return loss, dW"
      ]
    },
    {
      "cell_type": "markdown",
      "metadata": {
        "id": "xTI4qN7S9aTr"
      },
      "source": [
        "Evaluate the naive implementation of the loss we provided for you. You will get around 9.000175."
      ]
    },
    {
      "cell_type": "code",
      "execution_count": null,
      "metadata": {
        "id": "Hxzu2uZq9P8P"
      },
      "outputs": [],
      "source": [
        "# generate a random SVM weight tensor of small numbers\n",
        "coutils.utils.fix_random_seed()\n",
        "W = torch.randn(3073, 10, device=data_dict['X_val'].device) * 0.0001 \n",
        "\n",
        "loss, grad = svm_loss_naive(W, data_dict['X_val'], data_dict['y_val'], 0.000005)\n",
        "print('loss: %f' % (loss, ))"
      ]
    },
    {
      "cell_type": "markdown",
      "metadata": {
        "id": "9LbRTXJ39Yp8"
      },
      "source": [
        "The `grad` returned from the function above is right now all zero. Derive and implement the gradient for the SVM cost function and implement it inline inside the function `svm_loss_naive`. You will find it helpful to interleave your new code inside the existing function.\n",
        "\n",
        "To check that you have implemented the gradient correctly, you can numerically estimate the gradient of the loss function and compare the numeric estimate to the gradient that you computed. We have provided code that does this for you (The relative errors should be less than `1e-6`)."
      ]
    },
    {
      "cell_type": "code",
      "execution_count": null,
      "metadata": {
        "id": "o3sMha4i9p_V"
      },
      "outputs": [],
      "source": [
        "# Once you've implemented the gradient, recompute it with the code below\n",
        "# and gradient check it with the function we provided for you\n",
        "\n",
        "# Use a random W and a minibatch of data from the val set for gradient checking\n",
        "# For numeric gradient checking it is a good idea to use 64-bit floating point\n",
        "# numbers for increased numeric precision; however when actually training models\n",
        "# we usually use 32-bit floating point numbers for increased speed.\n",
        "coutils.utils.fix_random_seed()\n",
        "W = 0.0001 * torch.randn(3073, 10, device=data_dict['X_val'].device).double()\n",
        "batch_size = 64\n",
        "X_batch = data_dict['X_val'][:64].double()\n",
        "y_batch = data_dict['y_val'][:64]\n",
        "\n",
        "# Compute the loss and its gradient at W.\n",
        "loss, grad = svm_loss_naive(W.double(), X_batch, y_batch, reg=0.0) \n",
        "\n",
        "# Numerically compute the gradient along several randomly chosen dimensions, and\n",
        "# compare them with your analytically computed gradient. The numbers should\n",
        "# match almost exactly along all dimensions.\n",
        "f = lambda w: svm_loss_naive(w, X_batch, y_batch, reg=0.0)[0]\n",
        "grad_numerical = grad_check_sparse(f, W.double(), grad)"
      ]
    },
    {
      "cell_type": "markdown",
      "metadata": {
        "id": "lSdsG-L292Ww"
      },
      "source": [
        "Let's do the gradient check once again with regularization turned on. (You didn't forget the regularization gradient, did you?)\n",
        "\n",
        "You should see relative errors less than `1e-5`."
      ]
    },
    {
      "cell_type": "code",
      "execution_count": null,
      "metadata": {
        "id": "bH6lXxVn9xZk"
      },
      "outputs": [],
      "source": [
        "# Use a minibatch of data from the val set for gradient checking\n",
        "coutils.utils.fix_random_seed()\n",
        "W = 0.0001 * torch.randn(3073, 10, device=data_dict['X_val'].device).double()\n",
        "batch_size = 64\n",
        "X_batch = data_dict['X_val'][:64].double()\n",
        "y_batch = data_dict['y_val'][:64]\n",
        "\n",
        "# Compute the loss and its gradient at W.\n",
        "loss, grad = svm_loss_naive(W.double(), X_batch, y_batch, reg=1e3) \n",
        "\n",
        "# Numerically compute the gradient along several randomly chosen dimensions, and\n",
        "# compare them with your analytically computed gradient. The numbers should\n",
        "# match almost exactly along all dimensions.\n",
        "f = lambda w: svm_loss_naive(w, X_batch, y_batch, reg=1e3)[0]\n",
        "grad_numerical = grad_check_sparse(f, W.double(), grad)"
      ]
    },
    {
      "cell_type": "markdown",
      "metadata": {
        "id": "OeOlF_YJ-ApZ"
      },
      "source": [
        "Now, let's implement vectorized version of SVM: `svm_loss_vectorized`. It should compute the same inputs and outputs as the naive version before, but it should involve **no explicit loops**."
      ]
    },
    {
      "cell_type": "code",
      "execution_count": null,
      "metadata": {
        "id": "yYrN2JA0-Aoa"
      },
      "outputs": [],
      "source": [
        "def svm_loss_vectorized(W, X, y, reg):\n",
        "  \"\"\"\n",
        "  Structured SVM loss function, vectorized implementation. When you implment \n",
        "  the regularization over W, please DO NOT multiply the regularization term by \n",
        "  1/2 (no coefficient). \n",
        "\n",
        "  Inputs and outputs are the same as svm_loss_naive.\n",
        "\n",
        "  Inputs:\n",
        "  - W: A PyTorch tensor of shape (D, C) containing weights.\n",
        "  - X: A PyTorch tensor of shape (N, D) containing a minibatch of data.\n",
        "  - y: A PyTorch tensor of shape (N,) containing training labels; y[i] = c means\n",
        "    that X[i] has label c, where 0 <= c < C.\n",
        "  - reg: (float) regularization strength\n",
        "\n",
        "  Returns a tuple of:\n",
        "  - loss as torch scalar\n",
        "  - gradient of loss with respect to weights W; a tensor of same shape as W\n",
        "  \"\"\"\n",
        "  loss = 0.0\n",
        "  dW = torch.zeros_like(W) # initialize the gradient as zero\n",
        "\n",
        "  #############################################################################\n",
        "  # TODO:                                                                     #\n",
        "  # Implement a vectorized version of the structured SVM loss, storing the    #\n",
        "  # result in loss.                                                           #\n",
        "  #############################################################################\n",
        "  # Replace \"pass\" statement with your code\n",
        "  # X로 한번에 dW와 Loss를 구해야한다.\n",
        "  # scores = X.mm(W) # N, C 여기서 N은 각 example을 의미\n",
        "  # correct_class_score = torch.zeros_like(y) # N,\n",
        "  # for i in range(X.shape[0]):\n",
        "  #   correct_class_score[i] = scores[i, y[i]]\n",
        "  # margin = scores - correct_class_score.reshape(-1, 1) + 1\n",
        "\n",
        "  # margin_idx = margin < 0\n",
        "  # margin[margin_idx] = 0\n",
        "\n",
        "  # loss = margin.sum(dim=1)\n",
        "\n",
        "  # for idx in range(W.shape[0]):\n",
        "  #   dW[idx] += X.sum(dim=0)[idx]\n",
        "\n",
        "  scores = X.mm(W) # (N, C)\n",
        "  mask = torch.zeros_like(scores, dtype=torch.bool) # (N, C)\n",
        "  mask[list(range(X.shape[0])), y.tolist()] = True # 정답인 곳에 모두 True \n",
        "  scores -= scores[mask].reshape(-1, 1 ) # SVM Loss 구현\n",
        "  scores += 1 # SVM Loss 구현\n",
        "  scores[mask] = 0 # SVM Loss 구현\n",
        "  scores[scores < 0] = 0 # SVM Loss 구현\n",
        "\n",
        "  loss = torch.sum(scores) / X.shape[0] + reg * torch.sum(W * W)# Loss\n",
        "  #############################################################################\n",
        "  #                             END OF YOUR CODE                              #\n",
        "  #############################################################################\n",
        "\n",
        "\n",
        "  #############################################################################\n",
        "  # TODO:                                                                     #\n",
        "  # Implement a vectorized version of the gradient for the structured SVM     #\n",
        "  # loss, storing the result in dW.                                           #\n",
        "  #                                                                           #\n",
        "  # Hint: Instead of computing the gradient from scratch, it may be easier    #\n",
        "  # to reuse some of the intermediate values that you used to compute the     #\n",
        "  # loss.                                                                     #\n",
        "  #############################################################################\n",
        "  # Replace \"pass\" statement with your code\n",
        "  # loss = loss.sum() / X.shape[0]\n",
        "\n",
        "  qw = scores.clone() # (N, C)\n",
        "  qw[qw > 0] = 1 # loss가 0을 넘는 곳 1로\n",
        "  qw[mask] = torch.sum(qw, axis = 1) * -1 # 정답이었던 곳에 -1 여러번 더하기\n",
        "  # Naive Version과 비교해서 같은 연산과정을 거친다는 것을 보여라\n",
        "  dW = qw.T.mm(X).T # (C, N) * (N, D) = (C, D) -> (D, C). 각 위치에 대한 Gradient 구하기\n",
        "  dW *= 2 * W * reg\n",
        "  #############################################################################\n",
        "  #                             END OF YOUR CODE                              #\n",
        "  #############################################################################\n",
        "\n",
        "  return loss, dW"
      ]
    },
    {
      "cell_type": "markdown",
      "metadata": {
        "id": "sc5Wtu-e-WlI"
      },
      "source": [
        "Let's first check the speed and performance bewteen the non-vectorized and the vectorized version. You should see a speedup of more than 100x.\n",
        "\n",
        "(Note: It may have some difference, but should be less than 1e-6)"
      ]
    },
    {
      "cell_type": "code",
      "execution_count": null,
      "metadata": {
        "id": "pBLqLTAGo1Rs"
      },
      "outputs": [],
      "source": [
        "# Next implement the function svm_loss_vectorized; for now only compute the loss;\n",
        "# we will implement the gradient in a moment.\n",
        "\n",
        "# Use random weights and a minibatch of val data for gradient checking\n",
        "coutils.utils.fix_random_seed()\n",
        "W = 0.0001 * torch.randn(3073, 10, device=data_dict['X_val'].device).double()\n",
        "X_batch = data_dict['X_val'][:128].double()\n",
        "y_batch = data_dict['y_val'][:128]\n",
        "reg = 0.000005\n",
        "\n",
        "# Run and time the naive version\n",
        "torch.cuda.synchronize()\n",
        "tic = time.time()\n",
        "loss_naive, grad_naive = svm_loss_naive(W, X_batch, y_batch, reg)\n",
        "torch.cuda.synchronize()\n",
        "toc = time.time()\n",
        "ms_naive = 1000.0 * (toc - tic)\n",
        "print('Naive loss: %e computed in %.2fms' % (loss_naive, ms_naive))\n",
        "\n",
        "# Run and time the vectorized version\n",
        "torch.cuda.synchronize()\n",
        "tic = time.time()\n",
        "loss_vec, _ = svm_loss_vectorized(W, X_batch, y_batch, reg)\n",
        "torch.cuda.synchronize()\n",
        "toc = time.time()\n",
        "ms_vec = 1000.0 * (toc - tic)\n",
        "print('Vectorized loss: %e computed in %.2fms' % (loss_vec, ms_vec))\n",
        "\n",
        "# The losses should match but your vectorized implementation should be much faster.\n",
        "print('Difference: %.2e' % (loss_naive - loss_vec))\n",
        "print('Speedup: %.2fX' % (ms_naive / ms_vec))"
      ]
    },
    {
      "cell_type": "markdown",
      "metadata": {
        "id": "cRDPpAMl-0WD"
      },
      "source": [
        "Then, let's compute the gradient of the loss function. We can check the difference of gradient as well. (The error should be less than 1e-6)\n",
        "\n",
        "Now implement a vectorized version of the gradient computation in `svm_loss_vectorize` above. Run the cell below to compare the gradient of your naive and vectorized implementations. The difference between the gradients should be less than `1e-6`, and the vectorized version should run at least 100x faster.\n"
      ]
    },
    {
      "cell_type": "code",
      "execution_count": null,
      "metadata": {
        "id": "3_SyWrTJ-OfX"
      },
      "outputs": [],
      "source": [
        "# The naive implementation and the vectorized implementation should match, but\n",
        "# the vectorized version should still be much faster.\n",
        "\n",
        "# Use random weights and a minibatch of val data for gradient checking\n",
        "coutils.utils.fix_random_seed()\n",
        "W = 0.0001 * torch.randn(3073, 10, device=data_dict['X_val'].device).double()\n",
        "X_batch = data_dict['X_val'][:128].double()\n",
        "y_batch = data_dict['y_val'][:128]\n",
        "reg = 0.000005\n",
        "\n",
        "# Run and time the naive version\n",
        "torch.cuda.synchronize()\n",
        "tic = time.time()\n",
        "_, grad_naive = svm_loss_naive(W, X_batch, y_batch, 0.000005)\n",
        "torch.cuda.synchronize()\n",
        "toc = time.time()\n",
        "ms_naive = 1000.0 * (toc - tic)\n",
        "print('Naive loss and gradient: computed in %.2fms' % ms_naive)\n",
        "\n",
        "# Run and time the vectorized version\n",
        "torch.cuda.synchronize()\n",
        "tic = time.time()\n",
        "_, grad_vec = svm_loss_vectorized(W, X_batch, y_batch, 0.000005)\n",
        "torch.cuda.synchronize()\n",
        "toc = time.time()\n",
        "ms_vec = 1000.0 * (toc - tic)\n",
        "print('Vectorized loss and gradient: computed in %.2fms' % ms_vec)\n",
        "\n",
        "# The loss is a single number, so it is easy to compare the values computed\n",
        "# by the two implementations. The gradient on the other hand is a tensor, so\n",
        "# we use the Frobenius norm to compare them.\n",
        "grad_difference = torch.norm(grad_naive - grad_vec, p='fro')\n",
        "print('Gradient difference: %.2e' % grad_difference)\n",
        "print('Speedup: %.2fX' % (ms_naive / ms_vec))"
      ]
    },
    {
      "cell_type": "markdown",
      "metadata": {
        "id": "uU852IitCtrC"
      },
      "source": [
        "Now that we have an efficient vectorized implementation of the SVM loss and its gradient, we can implement a training pipeline for linear classifiers.\n",
        "\n",
        "Complete the implementation of the following function:\n"
      ]
    },
    {
      "cell_type": "code",
      "execution_count": null,
      "metadata": {
        "id": "YeRAY8TZAK22"
      },
      "outputs": [],
      "source": [
        "def train_linear_classifier(loss_func, W, X, y, learning_rate=1e-3, \n",
        "                            reg=1e-5, num_iters=100, batch_size=200, verbose=False):\n",
        "  \"\"\"\n",
        "  Train this linear classifier using stochastic gradient descent.\n",
        "\n",
        "  Inputs:\n",
        "  - loss_func: loss function to use when training. It should take W, X, y\n",
        "    and reg as input, and output a tuple of (loss, dW)\n",
        "  - W: A PyTorch tensor of shape (D, C) giving the initial weights of the\n",
        "    classifier. If W is None then it will be initialized here.\n",
        "  - X: A PyTorch tensor of shape (N, D) containing training data; there are N\n",
        "    training samples each of dimension D.\n",
        "  - y: A PyTorch tensor of shape (N,) containing training labels; y[i] = c\n",
        "    means that X[i] has label 0 <= c < C for C classes.\n",
        "  - learning_rate: (float) learning rate for optimization.\n",
        "  - reg: (float) regularization strength.\n",
        "  - num_iters: (integer) number of steps to take when optimizing\n",
        "  - batch_size: (integer) number of training examples to use at each step.\n",
        "  - verbose: (boolean) If true, print progress during optimization.\n",
        "\n",
        "  Returns: A tuple of:\n",
        "  - W: The final value of the weight matrix and the end of optimization\n",
        "  - loss_history: A list of Python scalars giving the values of the loss at each\n",
        "    training iteration.\n",
        "  \"\"\"\n",
        "  # assume y takes values 0...K-1 where K is number of classes\n",
        "  num_classes = torch.max(y) + 1 # 0부터 그 값이 시작하므로\n",
        "  num_train, dim = X.shape\n",
        "  if W is None:\n",
        "    # lazily initialize W\n",
        "    W = 0.000001 * torch.randn(dim, num_classes, device=X.device, dtype=X.dtype)\n",
        "\n",
        "  # Run stochastic gradient descent to optimize W\n",
        "  loss_history = []\n",
        "  for it in range(num_iters):\n",
        "    X_batch = None\n",
        "    y_batch = None\n",
        "    #########################################################################\n",
        "    # TODO:                                                                 #\n",
        "    # Sample batch_size elements from the training data and their           #\n",
        "    # corresponding labels to use in this round of gradient descent.        #\n",
        "    # Store the data in X_batch and their corresponding labels in           #\n",
        "    # y_batch; after sampling, X_batch should have shape (batch_size, dim)  #\n",
        "    # and y_batch should have shape (batch_size,)                           #\n",
        "    #                                                                       #\n",
        "    # Hint: Use torch.randint to generate indices.                          #\n",
        "    #########################################################################\n",
        "    # Replace \"pass\" statement with your code\n",
        "    batch_num = num_train // batch_size\n",
        "    batch_idx = torch.randint(0, batch_num, (1,))\n",
        "    X_batch = X[batch_idx * batch_size : batch_idx * batch_size + batch_size]\n",
        "    y_batch = y[batch_idx * batch_size : batch_idx * batch_size + batch_size]\n",
        "\n",
        "    # Test\n",
        "    # print('X_batch : ', X_batch.shape)\n",
        "    # print('Y_batch : ', y_batch.shape)\n",
        "    #########################################################################\n",
        "    #                       END OF YOUR CODE                                #\n",
        "    #########################################################################\n",
        "\n",
        "    # evaluate loss and gradient\n",
        "    loss, grad = loss_func(W, X_batch, y_batch, reg)\n",
        "    loss_history.append(loss.item())\n",
        "\n",
        "    # perform parameter update\n",
        "    #########################################################################\n",
        "    # TODO:                                                                 #\n",
        "    # Update the weights using the gradient and the learning rate.          #\n",
        "    #########################################################################\n",
        "    # Replace \"pass\" statement with your code\n",
        "    W -= learning_rate * grad\n",
        "    #########################################################################\n",
        "    #                       END OF YOUR CODE                                #\n",
        "    #########################################################################\n",
        "\n",
        "    if verbose and it % 100 == 0:\n",
        "      print('iteration %d / %d: loss %f' % (it, num_iters, loss))\n",
        "\n",
        "  return W, loss_history"
      ]
    },
    {
      "cell_type": "markdown",
      "metadata": {
        "id": "c6IL1_D9wCbF"
      },
      "source": [
        "Once you have implemented the training function, run the following cell to train a linear classifier using some default hyperparameters:\n",
        "\n",
        "(You should see a final loss close to 9.0, and your training loop should run in about two seconds)"
      ]
    },
    {
      "cell_type": "code",
      "execution_count": null,
      "metadata": {
        "id": "QaEZkCe3-kOu"
      },
      "outputs": [],
      "source": [
        "# fix random seed before we perform this operation\n",
        "coutils.utils.fix_random_seed()\n",
        "\n",
        "torch.cuda.synchronize()\n",
        "tic = time.time()\n",
        "\n",
        "W, loss_hist = train_linear_classifier(svm_loss_vectorized, None, \n",
        "                                       data_dict['X_train'], \n",
        "                                       data_dict['y_train'], \n",
        "                                       learning_rate=3e-11, reg=2.5e4,\n",
        "                                       num_iters=1500, verbose=True)\n",
        "\n",
        "torch.cuda.synchronize()\n",
        "toc = time.time()\n",
        "print('That took %fs' % (toc - tic))"
      ]
    },
    {
      "cell_type": "markdown",
      "metadata": {
        "id": "n8mz9aXfDrsF"
      },
      "source": [
        "A useful debugging strategy is to plot the loss as a function of iteration number. In this case it seems our hyperparameters are not good, since the training loss is not decreasing very fast.\n",
        "\n"
      ]
    },
    {
      "cell_type": "code",
      "execution_count": null,
      "metadata": {
        "id": "JJ8GjaZS_MLe"
      },
      "outputs": [],
      "source": [
        "plt.plot(loss_hist, 'o')\n",
        "plt.xlabel('Iteration number')\n",
        "plt.ylabel('Loss value')\n",
        "plt.show()"
      ]
    },
    {
      "cell_type": "markdown",
      "metadata": {
        "id": "hBzZNGNoD18s"
      },
      "source": [
        "Let's move on to the prediction stage:"
      ]
    },
    {
      "cell_type": "code",
      "execution_count": null,
      "metadata": {
        "id": "UdvAk57DD0xT"
      },
      "outputs": [],
      "source": [
        "def predict_linear_classifier(W, X):\n",
        "  \"\"\"\n",
        "  Use the trained weights of this linear classifier to predict labels for\n",
        "  data points.\n",
        "\n",
        "  Inputs:\n",
        "  - W: A PyTorch tensor of shape (D, C), containing weights of a model\n",
        "  - X: A PyTorch tensor of shape (N, D) containing training data; there are N\n",
        "    training samples each of dimension D.\n",
        "\n",
        "  Returns:\n",
        "  - y_pred: PyTorch int64 tensor of shape (N,) giving predicted labels for each\n",
        "    elemment of X. Each element of y_pred should be between 0 and C - 1.\n",
        "  \"\"\"\n",
        "  y_pred = torch.zeros(X.shape[0])\n",
        "  ###########################################################################\n",
        "  # TODO:                                                                   #\n",
        "  # Implement this method. Store the predicted labels in y_pred.            #\n",
        "  ###########################################################################\n",
        "  # Replace \"pass\" statement with your code\n",
        "  y_pred = X.mm(W).argmax(dim=1)\n",
        "  ###########################################################################\n",
        "  #                           END OF YOUR CODE                              #\n",
        "  ###########################################################################\n",
        "  return y_pred"
      ]
    },
    {
      "cell_type": "markdown",
      "metadata": {
        "id": "DRdfknKsE6F2"
      },
      "source": [
        "Then, let's evaluate the performance our trained model on both the training and validation set. You should see validation accuracy less than 10%."
      ]
    },
    {
      "cell_type": "code",
      "execution_count": null,
      "metadata": {
        "id": "YfToPzce_OBH"
      },
      "outputs": [],
      "source": [
        "# evaluate the performance on both the training and validation set\n",
        "y_train_pred = predict_linear_classifier(W, data_dict['X_train'])\n",
        "train_acc = 100.0 * (data_dict['y_train'] == y_train_pred).float().mean().item()\n",
        "print('Training accuracy: %.2f%%' % train_acc)\n",
        "y_val_pred = predict_linear_classifier(W, data_dict['X_val'])\n",
        "val_acc = 100.0 * (data_dict['y_val'] == y_val_pred).float().mean().item()\n",
        "print('Validation accuracy: %.2f%%' % val_acc)"
      ]
    },
    {
      "cell_type": "markdown",
      "metadata": {
        "id": "VWIyGnMOFOV8"
      },
      "source": [
        "Unfortunately, the performance of our initial model is quite bad. To find a better hyperparamters, let's first modulize the functions that we've implemented.\n",
        "\n",
        "---\n",
        "\n",
        "이렇게 클래스로 모듈화하는 것이 매우 중요하다."
      ]
    },
    {
      "cell_type": "code",
      "execution_count": null,
      "metadata": {
        "id": "A1SfNxVs8OBv"
      },
      "outputs": [],
      "source": [
        "# Note: We will re-use `LinearClassifier' in Softmax section\n",
        "class LinearClassifier(object):\n",
        "  \n",
        "  def __init__(self):\n",
        "    self.W = None\n",
        "    \n",
        "  def train(self, X_train, y_train, learning_rate=1e-3, reg=1e-5, num_iters=100,\n",
        "            batch_size=200, verbose=False):\n",
        "    train_args = (self.loss, self.W, X_train, y_train, learning_rate, reg,\n",
        "                  num_iters, batch_size, verbose)\n",
        "    self.W, loss_history = train_linear_classifier(*train_args)\n",
        "    return loss_history\n",
        "\n",
        "  def predict(self, X):\n",
        "    return predict_linear_classifier(self.W, X) \n",
        "  \n",
        "  def loss(self, W, X_batch, y_batch, reg):\n",
        "    \"\"\"\n",
        "    Compute the loss function and its derivative. \n",
        "    Subclasses will override this.\n",
        "\n",
        "    Inputs:\n",
        "    - W: A PyTorch tensor of shape (D, C) containing (trained) weight of a model.\n",
        "    - X_batch: A PyTorch tensor of shape (N, D) containing a minibatch of N\n",
        "      data points; each point has dimension D.\n",
        "    - y_batch: A PyTorch tensor of shape (N,) containing labels for the minibatch.\n",
        "    - reg: (float) regularization strength.\n",
        "\n",
        "    Returns: A tuple containing:\n",
        "    - loss as a single float\n",
        "    - gradient with respect to self.W; an tensor of the same shape as W\n",
        "    \"\"\"\n",
        "    pass\n",
        "  def _loss(self, X_batch, y_batch, reg):\n",
        "    self.loss(self.W, X_batch, y_batch, reg)\n",
        "\n",
        "  \n",
        "class LinearSVM(LinearClassifier):\n",
        "  \"\"\" A subclass that uses the Multiclass SVM loss function \"\"\"\n",
        "\n",
        "  def loss(self, W, X_batch, y_batch, reg):\n",
        "    return svm_loss_vectorized(W, X_batch, y_batch, reg)"
      ]
    },
    {
      "cell_type": "markdown",
      "metadata": {
        "id": "taNmjt2wGJQr"
      },
      "source": [
        "Now, please use the validation set to tune hyperparameters (regularization strength and learning rate). You should experiment with different ranges for the learning rates and regularization strengths.\n",
        "\n",
        "To get full credit for the assignment your best model found through cross-validation should achieve an accuracy of at least 37% on the validation set.\n",
        "\n",
        "(Our best model got over 40% -- did you beat us?)"
      ]
    },
    {
      "cell_type": "code",
      "execution_count": null,
      "metadata": {
        "id": "oVMsJ9Ti_Ude"
      },
      "outputs": [],
      "source": [
        "# results is dictionary mapping tuples of the form\n",
        "# (learning_rate, regularization_strength) to tuples of the form\n",
        "# (training_accuracy, validation_accuracy). The accuracy is simply the fraction\n",
        "# of data points that are correctly classified.\n",
        "results = {}\n",
        "best_val = -1   # The highest validation accuracy that we have seen so far.\n",
        "best_svm = None # The LinearSVM object that achieved the highest validation rate.\n",
        "learning_rates = [] # learning rate candidates, e.g. [1e-3, 1e-2, ...]\n",
        "regularization_strengths = [] # regularization strengths candidates e.g. [1e0, 1e1, ...]\n",
        "\n",
        "################################################################################\n",
        "# TODO:                                                                        #\n",
        "# Write code that chooses the best hyperparameters by tuning on the validation #\n",
        "# set. For each combination of hyperparameters, train a linear SVM on the      #\n",
        "# training set, compute its accuracy on the training and validation sets, and  #\n",
        "# store these numbers in the results dictionary. In addition, store the best   #\n",
        "# validation accuracy in best_val and the LinearSVM object that achieves this  #\n",
        "# accuracy in best_svm.                                                        #\n",
        "#                                                                              #\n",
        "# Hint: You should use a small value for num_iters as you develop your         #\n",
        "# validation code so that the SVMs don't take much time to train; once you are #\n",
        "# confident that your validation code works, you should rerun the validation   #\n",
        "# code with a larger value for num_iters.                                      #\n",
        "################################################################################\n",
        "# Replace \"pass\" statement with your code\n",
        "# lr, reg를 바꿔가면서 처리, best val과 best svm을 구해라\n",
        "num_iter = 100\n",
        "learning_rates = torch.linspace(1e-7, 3e-7, 10).tolist()\n",
        "regularization_strengths = torch.linspace(0.5e3, 2e4, 10).tolist()\n",
        "\n",
        "X_train = data_dict['X_train']\n",
        "y_train = data_dict['y_train']\n",
        "X_val = data_dict['X_val']\n",
        "y_val = data_dict['y_val']\n",
        "\n",
        "for lr in learning_rates:\n",
        "  for reg in regularization_strengths:\n",
        "    # model declaration\n",
        "    svm = LinearSVM()\n",
        "\n",
        "    # train\n",
        "    _ = svm.train(X_train, y_train, learning_rate=lr,\n",
        "                  reg=reg, num_iters=num_iter)\n",
        "\n",
        "    # predict_training set\n",
        "    y_train_pred = svm.predict(X_train)\n",
        "    train_acc = 100.0 * (y_train == y_train_pred).float().mean().item()\n",
        "    y_val_pred = svm.predict(X_val)\n",
        "    val_acc = 100.0 * (y_val == y_val_pred).float().mean().item()\n",
        "\n",
        "    results[(lr, reg)] = (train_acc, val_acc)\n",
        "\n",
        "    if val_acc > best_val:\n",
        "      best_val = val_acc\n",
        "      best_svm = svm\n",
        "################################################################################\n",
        "#                              END OF YOUR CODE                                #\n",
        "################################################################################\n",
        "    \n",
        "# Print out results.\n",
        "for lr, reg in sorted(results):\n",
        "  train_accuracy, val_accuracy = results[(lr, reg)]\n",
        "  print('lr %e reg %e train accuracy: %f val accuracy: %f' % (\n",
        "         lr, reg, train_accuracy, val_accuracy))\n",
        "    \n",
        "print('best validation accuracy achieved during cross-validation: %f' % best_val)"
      ]
    },
    {
      "cell_type": "markdown",
      "metadata": {
        "id": "wBbvJvMeGZ-7"
      },
      "source": [
        "Visualize the cross-validation results. You can use this as a debugging tool -- after examining the cross-validation results here, you may want to go back and rerun your cross-validation from above."
      ]
    },
    {
      "cell_type": "code",
      "execution_count": null,
      "metadata": {
        "id": "QbPffK9H_ZGj"
      },
      "outputs": [],
      "source": [
        "x_scatter = [math.log10(x[0]) for x in results]\n",
        "y_scatter = [math.log10(x[1]) for x in results]\n",
        "\n",
        "# plot training accuracy\n",
        "marker_size = 100\n",
        "colors = [results[x][0] for x in results]\n",
        "plt.scatter(x_scatter, y_scatter, marker_size, c=colors, cmap='viridis')\n",
        "plt.colorbar()\n",
        "plt.xlabel('log learning rate')\n",
        "plt.ylabel('log regularization strength')\n",
        "plt.title('CIFAR-10 training accuracy')\n",
        "plt.gcf().set_size_inches(8, 5)\n",
        "plt.show()\n",
        "\n",
        "# plot validation accuracy\n",
        "colors = [results[x][1] for x in results] # default size of markers is 20\n",
        "plt.scatter(x_scatter, y_scatter, marker_size, c=colors, cmap='viridis')\n",
        "plt.colorbar()\n",
        "plt.xlabel('log learning rate')\n",
        "plt.ylabel('log regularization strength')\n",
        "plt.title('CIFAR-10 validation accuracy')\n",
        "plt.gcf().set_size_inches(8, 5)\n",
        "plt.show()"
      ]
    },
    {
      "cell_type": "markdown",
      "metadata": {
        "id": "MCMVzxquGf1O"
      },
      "source": [
        "Evaluate the best svm on test set. To get full credit for the assignment you should achieve a test-set accuracy above 35%.\n",
        "\n",
        "(Our best was over 38% -- did you beat us?)"
      ]
    },
    {
      "cell_type": "code",
      "execution_count": null,
      "metadata": {
        "id": "maJ7use3_soL"
      },
      "outputs": [],
      "source": [
        "y_test_pred = best_svm.predict(data_dict['X_test'])\n",
        "test_accuracy = torch.mean((data_dict['y_test'] == y_test_pred).float())\n",
        "print('linear SVM on raw pixels final test set accuracy: %f' % test_accuracy)"
      ]
    },
    {
      "cell_type": "markdown",
      "metadata": {
        "id": "I-QVIG4fGiqJ"
      },
      "source": [
        "Visualize the learned weights for each class. Depending on your choice of learning rate and regularization strength, these may or may not be nice to look at.\n",
        "\n",
        "---\n",
        "\n",
        "이부분 다시 보기"
      ]
    },
    {
      "cell_type": "code",
      "execution_count": null,
      "metadata": {
        "id": "McLHYtFd_vSI"
      },
      "outputs": [],
      "source": [
        "w = best_svm.W[:-1,:] # strip out the bias\n",
        "w = w.reshape(3, 32, 32, 10) # 3채널 32*32 배치 10. 그런데 바로 이렇게 해서 들어맞는 이유는 모르겠다.\n",
        "w = w.transpose(0, 2).transpose(1, 0) # (32, 32, 3, 10) 이다. 마지막 transpose는 행열 바꾸는 것인데...?\n",
        "\n",
        "w_min, w_max = torch.min(w), torch.max(w)\n",
        "classes = ['plane', 'car', 'bird', 'cat', 'deer', 'dog', 'frog', 'horse', 'ship', 'truck']\n",
        "for i in range(10):\n",
        "  plt.subplot(2, 5, i + 1)\n",
        "\n",
        "  # Rescale the weights to be between 0 and 255\n",
        "  wimg = 255.0 * (w[:, :, :, i].squeeze() - w_min) / (w_max - w_min)\n",
        "  plt.imshow(wimg.type(torch.uint8).cpu())\n",
        "  plt.axis('off')\n",
        "  plt.title(classes[i])"
      ]
    },
    {
      "cell_type": "markdown",
      "metadata": {
        "id": "DkuwyMY27RxS"
      },
      "source": [
        "## Softmax Classifier\n",
        "\n",
        "Similar to the SVM, you will:\n",
        "\n",
        "- implement a fully-vectorized **loss function** for the Softmax classifier\n",
        "- implement the fully-vectorized expression for its **analytic gradient**\n",
        "- **check your implementation** with numerical gradient\n",
        "- use a validation set to **tune the learning rate and regularization** strength\n",
        "- **optimize** the loss function with **SGD**\n",
        "- **visualize** the final learned weights"
      ]
    },
    {
      "cell_type": "markdown",
      "metadata": {
        "id": "hLJMVGtvIgo3"
      },
      "source": [
        "First, let's start from implementing the naive softmax loss function with nested loops.\n",
        "\n",
        "![image.png](data:image/png;base64,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)"
      ]
    },
    {
      "cell_type": "code",
      "execution_count": null,
      "metadata": {
        "id": "w3MDCs7Cwss8"
      },
      "outputs": [],
      "source": [
        "def softmax_loss_naive(W, X, y, reg):\n",
        "  \"\"\"\n",
        "  Softmax loss function, naive implementation (with loops).  When you implment \n",
        "  the regularization over W, please DO NOT multiply the regularization term by \n",
        "  1/2 (no coefficient). \n",
        "\n",
        "  Inputs have dimension D, there are C classes, and we operate on minibatches\n",
        "  of N examples.\n",
        "\n",
        "  Inputs:\n",
        "  - W: A PyTorch tensor of shape (D, C) containing weights.\n",
        "  - X: A PyTorch tensor of shape (N, D) containing a minibatch of data.\n",
        "  - y: A PyTorch tensor of shape (N,) containing training labels; y[i] = c means\n",
        "    that X[i] has label c, where 0 <= c < C.\n",
        "  - reg: (float) regularization strength\n",
        "\n",
        "  Returns a tuple of:\n",
        "  - loss as single float\n",
        "  - gradient with respect to weights W; an tensor of same shape as W\n",
        "  \"\"\"\n",
        "  # Initialize the loss and gradient to zero.\n",
        "  loss = 0.0\n",
        "  dW = torch.zeros_like(W)\n",
        "\n",
        "  #############################################################################\n",
        "  # TODO: Compute the softmax loss and its gradient using explicit loops.     #\n",
        "  # Store the loss in loss and the gradient in dW. If you are not careful     #\n",
        "  # here, it is easy to run into numeric instability (Check Numeric Stability #\n",
        "  # in http://cs231n.github.io/linear-classify/). Plus, don't forget the      #\n",
        "  # regularization!                                                           #\n",
        "  #############################################################################\n",
        "  # Replace \"pass\" statement with your code\n",
        "  # num_class = W.shape[1]\n",
        "  # num_train = X.shape[0]\n",
        "  \n",
        "  # for i in range(num_train):\n",
        "  #   scores = W.t().mv(X[i]) # (C,)\n",
        "  #   scores -= torch.max(scores) # stability\n",
        "  #   correct_class_score = scores[y[i]]\n",
        "  #   # softmax_probability = torch.exp(scores) / torch.sum(torch.exp(scores)) # (C,)\n",
        "  #   # loss += -torch.log(softmax_probability)[y[i]] # (1,)\n",
        "  #   loss += -correct_class_score * torch.log(torch.exp(scores).sum())\n",
        "\n",
        "  #   dW = dW.t()\n",
        "  #   for j in range(dW.shape[0]):\n",
        "  #     dW[j] -= softmax_probability[j] * (torch.sum(torch.exp(scores)) - torch.exp(scores[j])) * X[i] # (D,)\n",
        "  #   dW = dW.t()\n",
        "\n",
        "  # loss /= X.shape[0]\n",
        "  # loss += reg * torch.sum(W * W)\n",
        "  # dW /= X.shape[0]\n",
        "\n",
        "  num_class = W.shape[1]\n",
        "  num_train = X.shape[0]\n",
        "  \n",
        "  for i in range(num_train):\n",
        "    scores = W.t().mv(X[i]) # (C,)\n",
        "    scores -= torch.max(scores) # stability\n",
        "    correct_class_score = scores[y[i]]\n",
        "    loss += -correct_class_score + torch.log(torch.exp(scores).sum())\n",
        "\n",
        "    for j in range(num_class): # 본래의 Loss 참고\n",
        "      if j == y[i]:\n",
        "        dW[:, j] += torch.exp(scores[j]) / torch.exp(scores).sum() * X[i, :] - X[i, :]\n",
        "      else:\n",
        "        dW[:, j] += torch.exp(scores[j]) / torch.exp(scores).sum() * X[i, :]\n",
        "\n",
        "  loss /= num_train\n",
        "  loss += reg * torch.sum(W * W)\n",
        "  dW /= num_train\n",
        "  dW += 2 * W * reg\n",
        "\n",
        "  #############################################################################\n",
        "  #                          END OF YOUR CODE                                 #\n",
        "  #############################################################################\n",
        "\n",
        "  return loss, dW"
      ]
    },
    {
      "cell_type": "markdown",
      "metadata": {
        "id": "cER8fiSq7Ys-"
      },
      "source": [
        "As a sanity check to see whether we have implemented the loss correctly, run the softmax classifier with a small random weight matrix and no regularization. You should see loss near log(10) = 2.3\n",
        "\n",
        "---\n",
        "\n",
        "클래스가 총 10개이고, softmax의 정의를 보면 초기 loss = -log(1/C)여야한다.."
      ]
    },
    {
      "cell_type": "code",
      "execution_count": null,
      "metadata": {
        "id": "V9q77O7F7VI6"
      },
      "outputs": [],
      "source": [
        "# Generate a random softmax weight tensor and use it to compute the loss.\n",
        "coutils.utils.fix_random_seed()\n",
        "W = 0.0001 * torch.randn(3073, 10, device=data_dict['X_val'].device).double()\n",
        "\n",
        "X_batch = data_dict['X_val'][:128].double()\n",
        "y_batch = data_dict['y_val'][:128]\n",
        "\n",
        "# Complete the implementation of softmax_loss_naive and implement a (naive)\n",
        "# version of the gradient that uses nested loops.\n",
        "loss, grad = softmax_loss_naive(W, X_batch, y_batch, reg=0.0)\n",
        "\n",
        "# As a rough sanity check, our loss should be something close to log(10.0).\n",
        "print('loss: %f' % loss)\n",
        "print('sanity check: %f' % (math.log(10.0)))"
      ]
    },
    {
      "cell_type": "markdown",
      "metadata": {
        "id": "5QJzUHl5I0HH"
      },
      "source": [
        "Next, we use gradient checking to debug the analytic gradient of our naive softmax loss function. If you've implemented the gradient correctly, you should see relative errors less than `1e-6`.\n"
      ]
    },
    {
      "cell_type": "code",
      "execution_count": null,
      "metadata": {
        "id": "Lj6YpN3q1hVG"
      },
      "outputs": [],
      "source": [
        "coutils.utils.fix_random_seed()\n",
        "W = 0.0001 * torch.randn(3073, 10, device=data_dict['X_val'].device).double()\n",
        "X_batch = data_dict['X_val'][:128].double()\n",
        "y_batch = data_dict['y_val'][:128]\n",
        "\n",
        "loss, grad = softmax_loss_naive(W, X_batch, y_batch, reg=0.0)\n",
        "\n",
        "f = lambda w: softmax_loss_naive(w, X_batch, y_batch, reg=0.0)[0]\n",
        "grad_check_sparse(f, W, grad, 10)"
      ]
    },
    {
      "cell_type": "markdown",
      "metadata": {
        "id": "cFcgeajBI-L3"
      },
      "source": [
        "Let's perform another gradient check with regularization enabled. Again you should see relative errors less than `1e-6`."
      ]
    },
    {
      "cell_type": "code",
      "execution_count": null,
      "metadata": {
        "id": "Ik0i21sszZzg"
      },
      "outputs": [],
      "source": [
        "coutils.utils.fix_random_seed()\n",
        "W = 0.0001 * torch.randn(3073, 10, device=data_dict['X_val'].device).double()\n",
        "reg = 10.0\n",
        "\n",
        "X_batch = data_dict['X_val'][:128].double()\n",
        "y_batch = data_dict['y_val'][:128]\n",
        "\n",
        "loss, grad = softmax_loss_naive(W, X_batch, y_batch, reg)\n",
        "\n",
        "f = lambda w: softmax_loss_naive(w, X_batch, y_batch, reg)[0]\n",
        "grad_check_sparse(f, W, grad, 10)"
      ]
    },
    {
      "cell_type": "markdown",
      "metadata": {
        "id": "JQgRzrdRJAm7"
      },
      "source": [
        "Then, let's move on to the vectorized form"
      ]
    },
    {
      "cell_type": "code",
      "execution_count": null,
      "metadata": {
        "id": "bYlTPinzwv3x"
      },
      "outputs": [],
      "source": [
        "def softmax_loss_vectorized(W, X, y, reg):\n",
        "  \"\"\"\n",
        "  Softmax loss function, vectorized version.  When you implment the \n",
        "  regularization over W, please DO NOT multiply the regularization term by 1/2 \n",
        "  (no coefficient). \n",
        "\n",
        "  Inputs and outputs are the same as softmax_loss_naive.\n",
        "\n",
        "  Inputs:\n",
        "  - W: A PyTorch tensor of shape (D, C) containing weights.\n",
        "  - X: A PyTorch tensor of shape (N, D) containing a minibatch of data.\n",
        "  - y: A PyTorch tensor of shape (N,) containing training labels; y[i] = c means\n",
        "    that X[i] has label c, where 0 <= c < C.\n",
        "  - reg: (float) regularization strength\n",
        "\n",
        "  Returns a tuple of:\n",
        "  - loss as single float\n",
        "  - gradient with respect to weights W; an tensor of same shape as W  \n",
        "  \"\"\"\n",
        "  # Initialize the loss and gradient to zero.\n",
        "  loss = 0.0\n",
        "  dW = torch.zeros_like(W)\n",
        "\n",
        "  #############################################################################\n",
        "  # TODO: Compute the softmax loss and its gradient using no explicit loops.  #\n",
        "  # Store the loss in loss and the gradient in dW. If you are not careful     #\n",
        "  # here, it is easy to run into numeric instability (Check Numeric Stability #\n",
        "  # in http://cs231n.github.io/linear-classify/). Don't forget the            #\n",
        "  # regularization!                                                           #\n",
        "  #############################################################################\n",
        "  # Replace \"pass\" statement with your code\n",
        "  # num_train = X.shape[0]\n",
        "  # scores = X.mm(W) # (N, C)\n",
        "  # scores -= torch.max(scores, dim=1, keepdim=True)[0]\n",
        "  # softmax_probability = torch.exp(scores) / torch.sum(torch.exp(scores), dim=1, keepdim=True) # (N, C)\n",
        "  # for i in range(len(y)):\n",
        "  #   loss += -torch.log(softmax_probability)[i, y[i]] # (1,)\n",
        "  # for j in range(W.shape[0]):\n",
        "  #   dW[j] -= X.sum(dim=0)[j]\n",
        "  \n",
        "  # loss /= num_train\n",
        "  # loss += reg * torch.sum(W * W)\n",
        "  # dW /= num_train\n",
        "\n",
        "  num_classes = W.shape[1]\n",
        "  num_train = X.shape[0]\n",
        "  scores = X.mm(W)\n",
        "  correct_scores = torch.sum(scores[range(scores.shape[0]), y.tolist()])\n",
        "  \n",
        "  loss = -correct_scores + torch.sum(torch.log(torch.sum(torch.exp(scores), dim = 1)))\n",
        "\n",
        "  loss /= num_train\n",
        "  loss += reg * torch.sum(W * W)\n",
        "  dW /= num_train\n",
        "  dW += 2 * reg * W\n",
        "  \n",
        "  #############################################################################\n",
        "  #                          END OF YOUR CODE                                 #\n",
        "  #############################################################################\n",
        "\n",
        "  return loss, dW"
      ]
    },
    {
      "cell_type": "markdown",
      "metadata": {
        "id": "88xZ0rbLJGKV"
      },
      "source": [
        "Now that we have a naive implementation of the softmax loss function and its gradient, implement a vectorized version in softmax_loss_vectorized. The two versions should compute the same results, but the vectorized version should be much faster.\n",
        "\n",
        "The differences between the naive and vectorized losses and gradients should both be less than `1e-6`, and your vectorized implementation should be at least 100x faster than the naive implementation."
      ]
    },
    {
      "cell_type": "code",
      "execution_count": null,
      "metadata": {
        "id": "lGNAe-oP1dds"
      },
      "outputs": [],
      "source": [
        "coutils.utils.fix_random_seed()\n",
        "W = 0.0001 * torch.randn(3073, 10, device=data_dict['X_val'].device)\n",
        "reg = 0.05\n",
        "\n",
        "X_batch = data_dict['X_val'][:128]\n",
        "y_batch = data_dict['y_val'][:128]\n",
        "\n",
        "# Run and time the naive version\n",
        "torch.cuda.synchronize()\n",
        "tic = time.time()\n",
        "loss_naive, grad_naive = softmax_loss_naive(W, X_batch, y_batch, reg)\n",
        "torch.cuda.synchronize()\n",
        "toc = time.time()\n",
        "ms_naive = 1000.0 * (toc - tic)\n",
        "print('naive loss: %e computed in %fs' % (loss_naive, ms_naive))\n",
        "\n",
        "# Run and time the vectorized version\n",
        "torch.cuda.synchronize()\n",
        "tic = time.time()\n",
        "loss_vec, grad_vec = softmax_loss_vectorized(W, X_batch, y_batch, reg)\n",
        "torch.cuda.synchronize()\n",
        "toc = time.time()\n",
        "ms_vec = 1000.0 * (toc - tic)\n",
        "print('vectorized loss: %e computed in %fs' % (loss_vec, ms_vec))\n",
        "\n",
        "# we use the Frobenius norm to compare the two versions of the gradient.\n",
        "loss_diff = (loss_naive - loss_vec).abs().item()\n",
        "grad_diff = torch.norm(grad_naive - grad_vec, p='fro')\n",
        "print('Loss difference: %.2e' % loss_diff)\n",
        "print('Gradient difference: %.2e' % grad_diff)\n",
        "print('Speedup: %.2fX' % (ms_naive / ms_vec))"
      ]
    },
    {
      "cell_type": "markdown",
      "metadata": {
        "id": "bqZScXKyq6WB"
      },
      "source": [
        "Let's check that your implementation of the softmax loss is numerically stable.\n",
        "\n",
        "If either of the following print `nan` then you should double-check the numeric stability of your implementations."
      ]
    },
    {
      "cell_type": "code",
      "execution_count": null,
      "metadata": {
        "id": "bCyFPWxxq58R"
      },
      "outputs": [],
      "source": [
        "device = data_dict['X_train'].device\n",
        "dtype = torch.float32\n",
        "D = data_dict['X_train'].shape[1]\n",
        "C = 10\n",
        "\n",
        "W_ones = torch.ones(D, C, device=device, dtype=dtype)\n",
        "W, loss_hist = train_linear_classifier(softmax_loss_naive, W_ones, \n",
        "                                       data_dict['X_train'], \n",
        "                                       data_dict['y_train'], \n",
        "                                       learning_rate=1e-8, reg=2.5e4,\n",
        "                                       num_iters=1, verbose=True)\n",
        "\n",
        "\n",
        "W_ones = torch.ones(D, C, device=device, dtype=dtype)\n",
        "W, loss_hist = train_linear_classifier(softmax_loss_vectorized, W_ones, \n",
        "                                       data_dict['X_train'], \n",
        "                                       data_dict['y_train'], \n",
        "                                       learning_rate=1e-8, reg=2.5e4,\n",
        "                                       num_iters=1, verbose=True)"
      ]
    },
    {
      "cell_type": "markdown",
      "metadata": {
        "id": "kR4JGKoek8FB"
      },
      "source": [
        "Now lets train a softmax classifier with some default hyperparameters:\n"
      ]
    },
    {
      "cell_type": "code",
      "execution_count": null,
      "metadata": {
        "id": "Kqga1rvjk7b8"
      },
      "outputs": [],
      "source": [
        "# fix random seed before we perform this operation\n",
        "coutils.utils.fix_random_seed(10)\n",
        "\n",
        "torch.cuda.synchronize()\n",
        "tic = time.time()\n",
        "\n",
        "W, loss_hist = train_linear_classifier(softmax_loss_vectorized, None, \n",
        "                                       data_dict['X_train'], \n",
        "                                       data_dict['y_train'], \n",
        "                                       learning_rate=1e-10, reg=2.5e4,\n",
        "                                       num_iters=1500, verbose=True) # 마지막에 X.shape[0] 없다...?\n",
        "\n",
        "torch.cuda.synchronize()\n",
        "toc = time.time()\n",
        "print('That took %fs' % (toc - tic))"
      ]
    },
    {
      "cell_type": "markdown",
      "metadata": {
        "id": "QKjxCGwkorCc"
      },
      "source": [
        "Plot the loss curve:"
      ]
    },
    {
      "cell_type": "code",
      "execution_count": null,
      "metadata": {
        "id": "K29x-DWNoujL"
      },
      "outputs": [],
      "source": [
        "plt.plot(loss_hist, 'o')\n",
        "plt.xlabel('Iteration number')\n",
        "plt.ylabel('Loss value')\n",
        "plt.show()"
      ]
    },
    {
      "cell_type": "markdown",
      "metadata": {
        "id": "7WvpBuJWSwfd"
      },
      "source": [
        "Let's compute the accuracy of current model. It should be less than 10%."
      ]
    },
    {
      "cell_type": "code",
      "execution_count": null,
      "metadata": {
        "id": "zb8kY2MjSvfH"
      },
      "outputs": [],
      "source": [
        "# evaluate the performance on both the training and validation set\n",
        "y_train_pred = predict_linear_classifier(W, data_dict['X_train'])\n",
        "train_acc = 100.0 * (data_dict['y_train'] == y_train_pred).float().mean().item()\n",
        "print('training accuracy: %.2f%%' % train_acc)\n",
        "y_val_pred = predict_linear_classifier(W, data_dict['X_val'])\n",
        "val_acc = 100.0 * (data_dict['y_val'] == y_val_pred).float().mean().item()\n",
        "print('validation accuracy: %.2f%%' % val_acc)"
      ]
    },
    {
      "cell_type": "markdown",
      "metadata": {
        "id": "IuV0BZvzJirI"
      },
      "source": [
        "Now use the validation set to tune hyperparameters (regularization strength and learning rate). You should experiment with different ranges for the learning rates and regularization strengths.\n",
        "\n",
        "To get full credit for the assignment, your best model found through cross-validation should achieve an accuracy above 0.37 on the validation set.\n",
        "\n",
        "(Our best model was above 0.40 -- did you beat us?)"
      ]
    },
    {
      "cell_type": "code",
      "execution_count": null,
      "metadata": {
        "id": "TGyf3TkWB-Er"
      },
      "outputs": [],
      "source": [
        "class Softmax(LinearClassifier):\n",
        "  \"\"\" A subclass that uses the Softmax + Cross-entropy loss function \"\"\"\n",
        "  def loss(self, W, X_batch, y_batch, reg):\n",
        "    return softmax_loss_vectorized(W, X_batch, y_batch, reg)"
      ]
    },
    {
      "cell_type": "code",
      "execution_count": null,
      "metadata": {
        "id": "68lmNVj31ddu"
      },
      "outputs": [],
      "source": [
        "results = {}\n",
        "best_val = -1\n",
        "best_softmax = None\n",
        "\n",
        "learning_rates = [] # learning rate candidates\n",
        "regularization_strengths = [] # regularization strengths candidates\n",
        "\n",
        "# As before, store your cross-validation results in this dictionary.\n",
        "# The keys should be tuples of (learning_rate, regularization_strength) and\n",
        "# the values should be tuples (train_accuracy, val_accuracy)\n",
        "results = {}\n",
        "\n",
        "################################################################################\n",
        "# TODO:                                                                        #\n",
        "# Use the validation set to set the learning rate and regularization strength. #\n",
        "# This should be similar to the cross-validation that you used for the SVM,    #\n",
        "# but you may need to select different hyperparameters to achieve good         #\n",
        "# performance with the softmax classifier. Save your best trained softmax      #\n",
        "# classifer in best_softmax.                                                   # \n",
        "################################################################################\n",
        "# Replace \"pass\" statement with your code\n",
        "num_iter = 100\n",
        "learning_rates = torch.linspace(1e-7, 3e-7, 10).tolist()\n",
        "regularization_strengths = torch.linspace(0.5e3, 2e4, 10).tolist()\n",
        "\n",
        "X_train = data_dict['X_train']\n",
        "y_train = data_dict['y_train']\n",
        "X_val = data_dict['X_val']\n",
        "y_val = data_dict['y_val']\n",
        "\n",
        "for idx_lr in range(len(learning_rates)):\n",
        "  for idx_reg in range(len(reg)):\n",
        "    # model declaration\n",
        "    softmax = Softmax()\n",
        "\n",
        "    # train\n",
        "    _ = softmax.train(X_train, y_train, learning_rate=lr,\n",
        "                      reg=reg, num_iters=num_iter)\n",
        "\n",
        "    # predict_training set\n",
        "    y_train_pred = softmax.predict(X_train)\n",
        "    train_acc = 100.0 * (y_train == y_train_pred).float().mean().item()\n",
        "    y_val_pred = softmax.predict(X_val)\n",
        "    val_acc = 100.0 * (y_val == y_val_pred).float().mean().item()\n",
        "\n",
        "    results[(lr, reg)] = (train_acc, val_acc)\n",
        "\n",
        "    if val_acc > best_val:\n",
        "      best_val = val_acc\n",
        "      best_softmax = softmax\n",
        "################################################################################\n",
        "#                              END OF YOUR CODE                                #\n",
        "################################################################################\n",
        "    \n",
        "# Print out results.\n",
        "for lr, reg in sorted(results):\n",
        "    train_accuracy, val_accuracy = results[(lr, reg)]\n",
        "    print('lr %e reg %e train accuracy: %f val accuracy: %f' % (\n",
        "                lr, reg, train_accuracy, val_accuracy))\n",
        "    \n",
        "print('best validation accuracy achieved during cross-validation: %f' % best_val)"
      ]
    },
    {
      "cell_type": "markdown",
      "metadata": {
        "id": "efougAmNCFLo"
      },
      "source": [
        "Run the following to visualize your cross-validation results:"
      ]
    },
    {
      "cell_type": "code",
      "execution_count": null,
      "metadata": {
        "id": "IVhRe3-DBjPr"
      },
      "outputs": [],
      "source": [
        "x_scatter = [math.log10(x[0]) for x in results]\n",
        "y_scatter = [math.log10(x[1]) for x in results]\n",
        "\n",
        "# plot training accuracy\n",
        "marker_size = 100\n",
        "colors = [results[x][0] for x in results]\n",
        "plt.scatter(x_scatter, y_scatter, marker_size, c=colors, cmap='viridis')\n",
        "plt.colorbar()\n",
        "plt.xlabel('log learning rate')\n",
        "plt.ylabel('log regularization strength')\n",
        "plt.title('CIFAR-10 training accuracy')\n",
        "plt.gcf().set_size_inches(8, 5)\n",
        "plt.show()\n",
        "\n",
        "# plot validation accuracy\n",
        "colors = [results[x][1] for x in results] # default size of markers is 20\n",
        "plt.scatter(x_scatter, y_scatter, marker_size, c=colors, cmap='viridis')\n",
        "plt.colorbar()\n",
        "plt.xlabel('log learning rate')\n",
        "plt.ylabel('log regularization strength')\n",
        "plt.title('CIFAR-10 validation accuracy')\n",
        "plt.gcf().set_size_inches(8, 5)\n",
        "plt.show()"
      ]
    },
    {
      "cell_type": "markdown",
      "metadata": {
        "id": "fbOlUcv6J7MM"
      },
      "source": [
        "Them, evaluate the performance of your best model on test set. To get full credit for this assignment you should achieve a test-set accuracy above 0.36.\n",
        "\n",
        "(Our best was just over 0.40 -- did you beat us?)\n",
        "\n"
      ]
    },
    {
      "cell_type": "code",
      "execution_count": null,
      "metadata": {
        "id": "-wxkVdB-1ddx"
      },
      "outputs": [],
      "source": [
        "y_test_pred = best_softmax.predict(data_dict['X_test'])\n",
        "test_accuracy = torch.mean((data_dict['y_test'] == y_test_pred).float())\n",
        "print('softmax on raw pixels final test set accuracy: %f' % (test_accuracy, ))"
      ]
    },
    {
      "cell_type": "markdown",
      "metadata": {
        "id": "Joo4RbeoKECC"
      },
      "source": [
        "Finally, let's visualize the learned weights for each class"
      ]
    },
    {
      "cell_type": "code",
      "execution_count": null,
      "metadata": {
        "id": "XDfxI7mR1ddz"
      },
      "outputs": [],
      "source": [
        "w = best_softmax.W[:-1,:] # strip out the bias\n",
        "w = w.reshape(3, 32, 32, 10)\n",
        "w = w.transpose(0, 2).transpose(1, 0)\n",
        "\n",
        "w_min, w_max = torch.min(w), torch.max(w)\n",
        "\n",
        "classes = ['plane', 'car', 'bird', 'cat', 'deer', 'dog', 'frog', 'horse', 'ship', 'truck']\n",
        "for i in range(10):\n",
        "  plt.subplot(2, 5, i + 1)\n",
        "\n",
        "  # Rescale the weights to be between 0 and 255\n",
        "  wimg = 255.0 * (w[:, :, :, i].squeeze() - w_min) / (w_max - w_min)\n",
        "  plt.imshow(wimg.type(torch.uint8).cpu())\n",
        "  plt.axis('off')\n",
        "  plt.title(classes[i])"
      ]
    }
  ],
  "metadata": {
    "accelerator": "GPU",
    "colab": {
      "collapsed_sections": [],
      "name": "linear_classifier.ipynb",
      "provenance": [],
      "include_colab_link": true
    },
    "kernelspec": {
      "display_name": "Python 3",
      "name": "python3"
    }
  },
  "nbformat": 4,
  "nbformat_minor": 0
}